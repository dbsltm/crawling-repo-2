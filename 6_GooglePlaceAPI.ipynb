{
 "cells": [
  {
   "cell_type": "code",
   "execution_count": 1,
   "metadata": {},
   "outputs": [],
   "source": [
    "import populartimes"
   ]
  },
  {
   "cell_type": "code",
   "execution_count": 5,
   "metadata": {},
   "outputs": [],
   "source": [
    "api_key = 'input_api_key'"
   ]
  },
  {
   "cell_type": "code",
   "execution_count": 56,
   "metadata": {},
   "outputs": [],
   "source": [
    "# place_id is available on below link\n",
    "# https://developers.google.com/maps/documentation/javascript/examples/places-placeid-finder#maps_places_placeid_finder-typescript\n",
    "place_id_finder= 'input_id'\n",
    "a = populartimes.get_id(api_key, place_id_finder)"
   ]
  },
  {
   "cell_type": "code",
   "execution_count": 1,
   "metadata": {},
   "outputs": [],
   "source": [
    "datas = {}\n",
    "for idx in range(0,7):\n",
    "    datas[a['populartimes'][idx]['name']] = a['populartimes'][idx]['data']\n",
    "df = pd.DataFrame(datas)\n",
    "df"
   ]
  },
  {
   "cell_type": "code",
   "execution_count": null,
   "metadata": {},
   "outputs": [],
   "source": [
    "for idx in range(7):\n",
    "    if np.sum(df[df.columns[idx]]) != 0:\n",
    "        print('It is open on {}!😍'.format(df.columns[idx]))\n",
    "        daily_data = df[df.columns[idx]]\n",
    "        daily_data = daily_data[daily_data!=0]\n",
    "        result = daily_data.idxmin()\n",
    "        print('You can relax at {}☕'.format(result))\n",
    "        result = daily_data.idxmax()\n",
    "        print('We might be busy at {}😢'.format(result))\n",
    "        print('==============================')\n",
    "      \n",
    "\n",
    "    else:\n",
    "        print('It is closed on {}👀'.format(df.columns[idx]))"
   ]
  },
  {
   "cell_type": "code",
   "execution_count": null,
   "metadata": {},
   "outputs": [],
   "source": []
  }
 ],
 "metadata": {
  "kernelspec": {
   "display_name": "Python 3",
   "language": "python",
   "name": "python3"
  },
  "language_info": {
   "codemirror_mode": {
    "name": "ipython",
    "version": 3
   },
   "file_extension": ".py",
   "mimetype": "text/x-python",
   "name": "python",
   "nbconvert_exporter": "python",
   "pygments_lexer": "ipython3",
   "version": "3.8.3"
  }
 },
 "nbformat": 4,
 "nbformat_minor": 4
}
