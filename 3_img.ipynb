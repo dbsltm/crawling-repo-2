{
 "cells": [
  {
   "cell_type": "code",
   "execution_count": 36,
   "metadata": {},
   "outputs": [],
   "source": [
    "from bs4 import BeautifulSoup\n",
    "from selenium import webdriver\n",
    "from urllib.request import urlopen\n",
    "import time\n",
    "import requests\n",
    "import pandas as pd\n",
    "import random\n",
    "import re\n",
    "import os"
   ]
  },
  {
   "cell_type": "code",
   "execution_count": 71,
   "metadata": {},
   "outputs": [],
   "source": [
    "def crawl_insta(cafe, login, pw, stop=10):\n",
    "   \n",
    "    name = cafe\n",
    "    # img 폴더안에 name명으로 된 폴더 생성\n",
    "    os.makedirs('./img/{}/'.format(name))\n",
    "    \n",
    "    # 인스타 로그인\n",
    "    url_log = 'https://www.instagram.com/accounts/login/'\n",
    "    driver = webdriver.Chrome('./chromedriver')\n",
    "    driver.get(url_log)\n",
    "    time.sleep(2)\n",
    "    driver.find_element_by_name(\"username\").send_keys(login)\n",
    "    driver.find_element_by_name(\"password\").send_keys(pw)\n",
    "    driver.find_element_by_css_selector('.sqdOP.L3NKy.y3zKF').click()\n",
    "    time.sleep(3)\n",
    "    driver.find_element_by_css_selector('.sqdOP.yWX7d.y3zKF').click()\n",
    "      \n",
    "    time.sleep(1)\n",
    "    \n",
    "    # 인스타 검색\n",
    "    \n",
    "    url = 'https://www.instagram.com/explore/tags/' + name\n",
    "    driver.get(url)\n",
    "    time.sleep(3)\n",
    "    \n",
    "    n=1\n",
    "    while n <=stop:\n",
    "        \n",
    "        # 6번 스크롤 내리기\n",
    "        wait=0\n",
    "        while True:\n",
    "            driver.execute_script(\"window.scrollTo(0, document.body.scrollHeight);\")\n",
    "            time.sleep(random.randint(2,3))\n",
    "            wait +=1\n",
    "            if wait == 6:\n",
    "                break\n",
    "        time.sleep(2)\n",
    "        \n",
    "        #화면 parsing(?)\n",
    "        insta = driver.find_elements_by_css_selector('.v1Nh3.kIKUG._bz0w')\n",
    "       \n",
    "        #사진저장\n",
    "        for i in insta:\n",
    "            #개인사생활을 위해 사람사진은 제외!\n",
    "            people = i.find_element_by_css_selector('div.KL4Bh >img').get_attribute('alt')\n",
    "            \n",
    "#             people = re.findall('[가-하]+:?[.]?', people)\n",
    "            time.sleep(0.3)\n",
    "#             if \"사람\" not in people and '그림' not in people and '문구:' not in people and '카톡' \\\n",
    "# not in people and '있습니다' not in people and '텍스트.' not in people and '없습니다' not in people:\n",
    "            if 'person' not in people and 'people' not in people and 'text' not in people:\n",
    "        \n",
    "                imgurl = i.find_element_by_css_selector('.KL4Bh > img').get_attribute('src')\n",
    "        \n",
    "                with urlopen(imgurl) as f:\n",
    "                    with open('./img/{}/'.format(name) + name +str(n) + '.jpg', 'wb') as h:\n",
    "                        img = f.read()\n",
    "                        h.write(img)\n",
    "                n+=1\n",
    "                if n==stop+1:\n",
    "                    driver.quit()\n",
    "                \n",
    "            else:\n",
    "                continue\n",
    "          \n",
    "        \n",
    "        \n",
    "    time.sleep(2)\n",
    "    driver.close()\n",
    "    \n",
    "\n",
    "    "
   ]
  },
  {
   "cell_type": "code",
   "execution_count": 1,
   "metadata": {
    "scrolled": true
   },
   "outputs": [],
   "source": [
    "crawl_insta('카페명', 'input_ID', 'input_PW', 100) # 500 : 크롤링할 이미지 갯수"
   ]
  },
  {
   "cell_type": "code",
   "execution_count": null,
   "metadata": {},
   "outputs": [],
   "source": []
  }
 ],
 "metadata": {
  "kernelspec": {
   "display_name": "Python 3",
   "language": "python",
   "name": "python3"
  },
  "language_info": {
   "codemirror_mode": {
    "name": "ipython",
    "version": 3
   },
   "file_extension": ".py",
   "mimetype": "text/x-python",
   "name": "python",
   "nbconvert_exporter": "python",
   "pygments_lexer": "ipython3",
   "version": "3.8.3"
  }
 },
 "nbformat": 4,
 "nbformat_minor": 4
}
